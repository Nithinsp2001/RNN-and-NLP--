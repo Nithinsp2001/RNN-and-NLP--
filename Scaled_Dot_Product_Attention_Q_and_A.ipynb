{
  "nbformat": 4,
  "nbformat_minor": 0,
  "metadata": {
    "colab": {
      "provenance": [],
      "authorship_tag": "ABX9TyNOthqnMhKfAlvZKXApd1qu",
      "include_colab_link": true
    },
    "kernelspec": {
      "name": "python3",
      "display_name": "Python 3"
    },
    "language_info": {
      "name": "python"
    }
  },
  "cells": [
    {
      "cell_type": "markdown",
      "metadata": {
        "id": "view-in-github",
        "colab_type": "text"
      },
      "source": [
        "<a href=\"https://colab.research.google.com/github/Nithinsp2001/RNN-and-NLP--/blob/main/Scaled_Dot_Product_Attention_Q_and_A.ipynb\" target=\"_parent\"><img src=\"https://colab.research.google.com/assets/colab-badge.svg\" alt=\"Open In Colab\"/></a>"
      ]
    },
    {
      "cell_type": "markdown",
      "source": [
        "1. Why do we divide the attention score by √d in scaled dot-product attention?\n",
        "\n",
        "\n",
        "Ans: It’s a normalization trick to keep the attention stable.\n",
        "     When computing attention scores (i.e., Q · Kᵀ), the result can become very large, especially when the dimension d of the vectors is high.\n",
        "\t1.Large dot products → very large numbers going into the softmax.\n",
        "\t2.That makes softmax outputs very sharp — meaning one word gets almost all the attention, and others get nearly zero.\n",
        "\t3.This hurts learning by making gradients too small to adjust during training (a problem called vanishing gradients).\n",
        "     *Dividing by √d keeps the values in a reasonable range, leading to:\n",
        "\t1.Smoother softmax outputs\n",
        "\t2.More stable gradients\n",
        "\t3.Better learning overall\n",
        "\n",
        "\n",
        "\n",
        "2. How does self-attention help the model understand relationships between words in a sentence?\n",
        "\n",
        "\n",
        "Ans: Self-attention allows every word in a sentence to look at (or \"attend to\") every other word, including itself. This helps the model understand context and relationships.\n",
        "     For example, in the sentence:\n",
        "\t“The cat sat on the mat because it was tired.”\n",
        "     When processing \"it\", self-attention allows the model to look back at \"cat\" to understand what \"it\" refers to.\n",
        "     When processing \"mat\", the model can focus on \"sat\" or \"on\" to better understand the spatial meaning.\n",
        "\n",
        "     Self-attention captures context by dynamically weighting which words are important for understanding each word's meaning — regardless of position."
      ],
      "metadata": {
        "id": "OxWCi0jAqfy5"
      }
    }
  ]
}