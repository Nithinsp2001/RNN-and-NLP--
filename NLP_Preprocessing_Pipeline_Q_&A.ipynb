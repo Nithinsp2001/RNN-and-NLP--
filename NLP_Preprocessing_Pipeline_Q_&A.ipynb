{
  "nbformat": 4,
  "nbformat_minor": 0,
  "metadata": {
    "colab": {
      "provenance": [],
      "authorship_tag": "ABX9TyOqm9TdilspjaK6TS13njZx",
      "include_colab_link": true
    },
    "kernelspec": {
      "name": "python3",
      "display_name": "Python 3"
    },
    "language_info": {
      "name": "python"
    }
  },
  "cells": [
    {
      "cell_type": "markdown",
      "metadata": {
        "id": "view-in-github",
        "colab_type": "text"
      },
      "source": [
        "<a href=\"https://colab.research.google.com/github/Nithinsp2001/RNN-and-NLP--/blob/main/NLP_Preprocessing_Pipeline_Q_%26A.ipynb\" target=\"_parent\"><img src=\"https://colab.research.google.com/assets/colab-badge.svg\" alt=\"Open In Colab\"/></a>"
      ]
    },
    {
      "cell_type": "code",
      "execution_count": null,
      "metadata": {
        "id": "xamwIlpnukq6"
      },
      "outputs": [],
      "source": []
    },
    {
      "cell_type": "markdown",
      "source": [
        "What is the difference between stemming and lemmatization?\n",
        "\n",
        "Ans: Stemming crudely reduces “running” to run by chopping suffixes, while lemmatization returns run by understanding grammar and context.\n",
        "\n",
        "Q2: Why might removing stop words be useful in some NLP tasks, and when might it actually be harmful?\n",
        "\n",
        "Ans: Removing stop words can streamline processing and highlight keywords, but it may harm tasks like sentiment analysis or question answering where every word contributes to meaning."
      ],
      "metadata": {
        "id": "EYTon7KIulbo"
      }
    }
  ]
}