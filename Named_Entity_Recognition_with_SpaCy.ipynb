{
  "nbformat": 4,
  "nbformat_minor": 0,
  "metadata": {
    "colab": {
      "provenance": [],
      "authorship_tag": "ABX9TyNs8cCte6V7gWLYnd1U/oZc",
      "include_colab_link": true
    },
    "kernelspec": {
      "name": "python3",
      "display_name": "Python 3"
    },
    "language_info": {
      "name": "python"
    }
  },
  "cells": [
    {
      "cell_type": "markdown",
      "metadata": {
        "id": "view-in-github",
        "colab_type": "text"
      },
      "source": [
        "<a href=\"https://colab.research.google.com/github/Nithinsp2001/RNN-and-NLP--/blob/main/Named_Entity_Recognition_with_SpaCy.ipynb\" target=\"_parent\"><img src=\"https://colab.research.google.com/assets/colab-badge.svg\" alt=\"Open In Colab\"/></a>"
      ]
    },
    {
      "cell_type": "code",
      "source": [
        "import spacy\n",
        "\n",
        "# Load English model\n",
        "nlp = spacy.load(\"en_core_web_sm\")\n",
        "\n",
        "# Input sentence\n",
        "sentence = \"Barack Obama served as the 44th President of the United States and won the Nobel Peace Prize in 2009.\"\n",
        "\n",
        "# Process the sentence\n",
        "doc = nlp(sentence)\n",
        "\n",
        "# Extract named entities\n",
        "print(\"Named Entities Found:\\n\")\n",
        "for ent in doc.ents:\n",
        "    print(f\"Text: {ent.text}\")\n",
        "    print(f\"Label: {ent.label_}\")\n",
        "    print(f\"Start Char: {ent.start_char}, End Char: {ent.end_char}\")\n",
        "    print(\"---\")"
      ],
      "metadata": {
        "colab": {
          "base_uri": "https://localhost:8080/"
        },
        "id": "c-ZdLq4GpOnH",
        "outputId": "135fc4b0-e74f-4b00-f075-f17b8469371d"
      },
      "execution_count": 2,
      "outputs": [
        {
          "output_type": "stream",
          "name": "stdout",
          "text": [
            "Named Entities Found:\n",
            "\n",
            "Text: Barack Obama\n",
            "Label: PERSON\n",
            "Start Char: 0, End Char: 12\n",
            "---\n",
            "Text: 44th\n",
            "Label: ORDINAL\n",
            "Start Char: 27, End Char: 31\n",
            "---\n",
            "Text: the United States\n",
            "Label: GPE\n",
            "Start Char: 45, End Char: 62\n",
            "---\n",
            "Text: the Nobel Peace Prize\n",
            "Label: WORK_OF_ART\n",
            "Start Char: 71, End Char: 92\n",
            "---\n",
            "Text: 2009\n",
            "Label: DATE\n",
            "Start Char: 96, End Char: 100\n",
            "---\n"
          ]
        }
      ]
    }
  ]
}