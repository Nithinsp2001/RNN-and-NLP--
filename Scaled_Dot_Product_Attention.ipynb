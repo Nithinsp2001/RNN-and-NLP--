{
  "nbformat": 4,
  "nbformat_minor": 0,
  "metadata": {
    "colab": {
      "provenance": [],
      "authorship_tag": "ABX9TyPgjNgYgIw9QkznteA/KaZW",
      "include_colab_link": true
    },
    "kernelspec": {
      "name": "python3",
      "display_name": "Python 3"
    },
    "language_info": {
      "name": "python"
    }
  },
  "cells": [
    {
      "cell_type": "markdown",
      "metadata": {
        "id": "view-in-github",
        "colab_type": "text"
      },
      "source": [
        "<a href=\"https://colab.research.google.com/github/Nithinsp2001/RNN-and-NLP--/blob/main/Scaled_Dot_Product_Attention.ipynb\" target=\"_parent\"><img src=\"https://colab.research.google.com/assets/colab-badge.svg\" alt=\"Open In Colab\"/></a>"
      ]
    },
    {
      "cell_type": "code",
      "source": [
        "import numpy as np\n",
        "\n",
        "def scaled_dot_product_attention(Q, K, V):\n",
        "    # Step 1: Dot product of Q and Kᵀ\n",
        "    matmul_qk = np.dot(Q, K.T)\n",
        "\n",
        "    # Step 2: Scale by √d (d = dimension of key vectors)\n",
        "    d = K.shape[1]\n",
        "    scaled_attention_logits = matmul_qk / np.sqrt(d)\n",
        "\n",
        "    # Step 3: Apply softmax to get attention weights\n",
        "    def softmax(x):\n",
        "        exp_x = np.exp(x - np.max(x, axis=-1, keepdims=True))  # for numerical stability\n",
        "        return exp_x / np.sum(exp_x, axis=-1, keepdims=True)\n",
        "\n",
        "    attention_weights = softmax(scaled_attention_logits)\n",
        "\n",
        "    # Step 4: Multiply attention weights with V\n",
        "    output = np.dot(attention_weights, V)\n",
        "\n",
        "    return output, attention_weights\n",
        "\n",
        "# Test Inputs\n",
        "Q = np.array([[1, 0, 1, 0],\n",
        "              [0, 1, 0, 1]])\n",
        "\n",
        "K = np.array([[1, 0, 1, 0],\n",
        "              [0, 1, 0, 1]])\n",
        "\n",
        "V = np.array([[1, 2, 3, 4],\n",
        "              [5, 6, 7, 8]])\n",
        "\n",
        "# Run attention\n",
        "output, weights = scaled_dot_product_attention(Q, K, V)\n",
        "\n",
        "print(\"Attention Weights:\\n\", weights)\n",
        "print(\"\\nOutput:\\n\", output)"
      ],
      "metadata": {
        "colab": {
          "base_uri": "https://localhost:8080/"
        },
        "id": "bNjvingfqKat",
        "outputId": "657f7cf7-e9d1-4cca-ac40-487926ae7177"
      },
      "execution_count": 3,
      "outputs": [
        {
          "output_type": "stream",
          "name": "stdout",
          "text": [
            "Attention Weights:\n",
            " [[0.73105858 0.26894142]\n",
            " [0.26894142 0.73105858]]\n",
            "\n",
            "Output:\n",
            " [[2.07576569 3.07576569 4.07576569 5.07576569]\n",
            " [3.92423431 4.92423431 5.92423431 6.92423431]]\n"
          ]
        }
      ]
    }
  ]
}